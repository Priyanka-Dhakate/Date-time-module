{
 "cells": [
  {
   "cell_type": "code",
   "execution_count": 4,
   "id": "742a34a5",
   "metadata": {},
   "outputs": [],
   "source": [
    "#print current date and time\n",
    "import datetime as dt\n",
    "now=dt.datetime.now\n",
    "current_date_time=dt.datetime.now()"
   ]
  },
  {
   "cell_type": "code",
   "execution_count": 5,
   "id": "71521728",
   "metadata": {},
   "outputs": [
    {
     "name": "stdout",
     "output_type": "stream",
     "text": [
      "2023-08-26 12:55:27.628070\n"
     ]
    }
   ],
   "source": [
    "print(current_date_time)"
   ]
  },
  {
   "cell_type": "raw",
   "id": "8076b356",
   "metadata": {},
   "source": [
    "current_date_time.strftime(\"%d-%m-%Y %H:%M:%s\")"
   ]
  },
  {
   "cell_type": "code",
   "execution_count": 7,
   "id": "53a9fd02",
   "metadata": {},
   "outputs": [
    {
     "data": {
      "text/plain": [
       "'26-08-2023 12:55:27'"
      ]
     },
     "execution_count": 7,
     "metadata": {},
     "output_type": "execute_result"
    }
   ],
   "source": [
    "current_date_time.strftime(\"%d-%m-%Y %H:%M:%S\")"
   ]
  },
  {
   "cell_type": "code",
   "execution_count": 8,
   "id": "f0b7ace0",
   "metadata": {},
   "outputs": [
    {
     "data": {
      "text/plain": [
       "'26-August-2023 12:55:27'"
      ]
     },
     "execution_count": 8,
     "metadata": {},
     "output_type": "execute_result"
    }
   ],
   "source": [
    "current_date_time.strftime(\"%d-%B-%Y %H:%M:%S\")"
   ]
  },
  {
   "cell_type": "code",
   "execution_count": 9,
   "id": "4edc18ec",
   "metadata": {},
   "outputs": [
    {
     "name": "stdout",
     "output_type": "stream",
     "text": [
      "Python version\n",
      "3.11.4 | packaged by Anaconda, Inc. | (main, Jul  5 2023, 13:38:37) [MSC v.1916 64 bit (AMD64)]\n"
     ]
    }
   ],
   "source": [
    "import sys\n",
    "print(\"Python version\")\n",
    "print(sys.version)"
   ]
  },
  {
   "cell_type": "code",
   "execution_count": 10,
   "id": "05809ff2",
   "metadata": {},
   "outputs": [
    {
     "name": "stdout",
     "output_type": "stream",
     "text": [
      "Python 3.11.4\n"
     ]
    }
   ],
   "source": [
    "!python --version"
   ]
  },
  {
   "cell_type": "code",
   "execution_count": null,
   "id": "8e4c7b76",
   "metadata": {},
   "outputs": [],
   "source": []
  }
 ],
 "metadata": {
  "kernelspec": {
   "display_name": "Python 3 (ipykernel)",
   "language": "python",
   "name": "python3"
  },
  "language_info": {
   "codemirror_mode": {
    "name": "ipython",
    "version": 3
   },
   "file_extension": ".py",
   "mimetype": "text/x-python",
   "name": "python",
   "nbconvert_exporter": "python",
   "pygments_lexer": "ipython3",
   "version": "3.11.4"
  }
 },
 "nbformat": 4,
 "nbformat_minor": 5
}
