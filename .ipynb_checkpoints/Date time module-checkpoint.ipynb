{
 "cells": [
  {
   "cell_type": "code",
   "execution_count": 4,
   "id": "e589cd6f",
   "metadata": {},
   "outputs": [],
   "source": [
    "#print current date and time\n",
    "import datetime as dt\n",
    "now=dt.datetime.now\n",
    "current_date_time=dt.datetime.now()"
   ]
  },
  {
   "cell_type": "code",
   "execution_count": 5,
   "id": "2382f643",
   "metadata": {},
   "outputs": [
    {
     "name": "stdout",
     "output_type": "stream",
     "text": [
      "2023-08-26 12:55:27.628070\n"
     ]
    }
   ],
   "source": [
    "print(current_date_time)"
   ]
  },
  {
   "cell_type": "raw",
   "id": "72e36b09",
   "metadata": {},
   "source": []
  }
 ],
 "metadata": {
  "kernelspec": {
   "display_name": "Python 3 (ipykernel)",
   "language": "python",
   "name": "python3"
  },
  "language_info": {
   "codemirror_mode": {
    "name": "ipython",
    "version": 3
   },
   "file_extension": ".py",
   "mimetype": "text/x-python",
   "name": "python",
   "nbconvert_exporter": "python",
   "pygments_lexer": "ipython3",
   "version": "3.11.4"
  }
 },
 "nbformat": 4,
 "nbformat_minor": 5
}
